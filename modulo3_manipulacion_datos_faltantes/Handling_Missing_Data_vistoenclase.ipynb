{
  "nbformat": 4,
  "nbformat_minor": 0,
  "metadata": {
    "colab": {
      "provenance": [],
      "authorship_tag": "ABX9TyOeW8age77IJ96a8APG8HHU",
      "include_colab_link": true
    },
    "kernelspec": {
      "name": "python3",
      "display_name": "Python 3"
    },
    "language_info": {
      "name": "python"
    }
  },
  "cells": [
    {
      "cell_type": "markdown",
      "metadata": {
        "id": "view-in-github",
        "colab_type": "text"
      },
      "source": [
        "<a href=\"https://colab.research.google.com/github/john-caballero/Data-Discovery/blob/main/modulo3_manipulacion_datos_faltantes/Handling_Missing_Data_vistoenclase.ipynb\" target=\"_parent\"><img src=\"https://colab.research.google.com/assets/colab-badge.svg\" alt=\"Open In Colab\"/></a>"
      ]
    },
    {
      "cell_type": "markdown",
      "source": [
        "<img src=\"https://posgrado.utec.edu.pe/sites/default/files/2023-08/Testimonial-home-2.jpg\" alt=\"HTML5 Icon\" width=\"900\" height=\"250\" >\n"
      ],
      "metadata": {
        "id": "63Z52XtzaaqY"
      }
    },
    {
      "cell_type": "markdown",
      "source": [
        "# **Handling Missing Data**"
      ],
      "metadata": {
        "id": "nXzKdHNnalF4"
      }
    },
    {
      "cell_type": "markdown",
      "source": [
        "**Objetivos**\n",
        "\n",
        "- Aplicar distintas técnicas de imputación:\n",
        "\n",
        "  - Medidas de tendencia central (media, mediana, moda)\n",
        "\n",
        "  - Imputación por regresión\n",
        "\n",
        "  - KNN imputation\n",
        "\n",
        "  - XGBoost imputador\n",
        "\n",
        "  - Autoencoders\n",
        "\n",
        "  - MICE (Multiple Imputation by Chained Equations)\n",
        "\n",
        "- Entrenar un modelo base (RandomForest o XGBoost) para comparar el impacto de cada estrategia de imputación en términos de performance (accuracy, AUC, etc.)\n",
        "\n",
        "- Reflexionar sobre las implicancias de cada método para modelos analíticos."
      ],
      "metadata": {
        "id": "l3bhQt_IalxN"
      }
    },
    {
      "cell_type": "markdown",
      "source": [
        "**Dataset**\n",
        "\n",
        "Loan Prediction - train.csv\n",
        "\n",
        "Puedes obtenerlo desde:\n",
        " https://datahack.analyticsvidhya.com/contest/practice-problem-loan-prediction-iii"
      ],
      "metadata": {
        "id": "Inh96ly5azO2"
      }
    },
    {
      "cell_type": "markdown",
      "source": [
        "Librerías necesarias"
      ],
      "metadata": {
        "id": "rvo1B-sea4nN"
      }
    },
    {
      "cell_type": "code",
      "source": [
        "%%capture\n",
        "!pip install pandas numpy seaborn matplotlib scikit-learn xgboost fancyimpute tensorflow missingno"
      ],
      "metadata": {
        "id": "RPK6gi4ka6Xj",
        "collapsed": true
      },
      "execution_count": 40,
      "outputs": []
    },
    {
      "cell_type": "markdown",
      "source": [
        "### 1. Carga y diagnóstico inicial"
      ],
      "metadata": {
        "id": "wOP8Iso2a8uu"
      }
    },
    {
      "cell_type": "code",
      "source": [
        "import pandas as pd\n",
        "import numpy as np\n",
        "\n",
        "df = pd.read_csv(\"train.csv\")\n",
        "df.drop(\"Loan_ID\", axis=1, inplace=True)\n"
      ],
      "metadata": {
        "id": "8katKHaya_1y"
      },
      "execution_count": 41,
      "outputs": []
    },
    {
      "cell_type": "code",
      "source": [
        "df.head()"
      ],
      "metadata": {
        "id": "QzXwLPox72cY",
        "outputId": "6e5ded85-e31b-47b6-ba4b-5b4be94b0f3e",
        "colab": {
          "base_uri": "https://localhost:8080/",
          "height": 243
        }
      },
      "execution_count": 42,
      "outputs": [
        {
          "output_type": "execute_result",
          "data": {
            "text/plain": [
              "  Gender Married Dependents     Education Self_Employed  ApplicantIncome  \\\n",
              "0   Male      No          0      Graduate            No             5849   \n",
              "1   Male     Yes          1      Graduate            No             4583   \n",
              "2   Male     Yes          0      Graduate           Yes             3000   \n",
              "3   Male     Yes          0  Not Graduate            No             2583   \n",
              "4   Male      No          0      Graduate            No             6000   \n",
              "\n",
              "   CoapplicantIncome  LoanAmount  Loan_Amount_Term  Credit_History  \\\n",
              "0                0.0         NaN             360.0             1.0   \n",
              "1             1508.0       128.0             360.0             1.0   \n",
              "2                0.0        66.0             360.0             1.0   \n",
              "3             2358.0       120.0             360.0             1.0   \n",
              "4                0.0       141.0             360.0             1.0   \n",
              "\n",
              "  Property_Area Loan_Status  \n",
              "0         Urban           Y  \n",
              "1         Rural           N  \n",
              "2         Urban           Y  \n",
              "3         Urban           Y  \n",
              "4         Urban           Y  "
            ],
            "text/html": [
              "\n",
              "  <div id=\"df-d4bdf5ae-2107-4eda-868f-215b9fcfca31\" class=\"colab-df-container\">\n",
              "    <div>\n",
              "<style scoped>\n",
              "    .dataframe tbody tr th:only-of-type {\n",
              "        vertical-align: middle;\n",
              "    }\n",
              "\n",
              "    .dataframe tbody tr th {\n",
              "        vertical-align: top;\n",
              "    }\n",
              "\n",
              "    .dataframe thead th {\n",
              "        text-align: right;\n",
              "    }\n",
              "</style>\n",
              "<table border=\"1\" class=\"dataframe\">\n",
              "  <thead>\n",
              "    <tr style=\"text-align: right;\">\n",
              "      <th></th>\n",
              "      <th>Gender</th>\n",
              "      <th>Married</th>\n",
              "      <th>Dependents</th>\n",
              "      <th>Education</th>\n",
              "      <th>Self_Employed</th>\n",
              "      <th>ApplicantIncome</th>\n",
              "      <th>CoapplicantIncome</th>\n",
              "      <th>LoanAmount</th>\n",
              "      <th>Loan_Amount_Term</th>\n",
              "      <th>Credit_History</th>\n",
              "      <th>Property_Area</th>\n",
              "      <th>Loan_Status</th>\n",
              "    </tr>\n",
              "  </thead>\n",
              "  <tbody>\n",
              "    <tr>\n",
              "      <th>0</th>\n",
              "      <td>Male</td>\n",
              "      <td>No</td>\n",
              "      <td>0</td>\n",
              "      <td>Graduate</td>\n",
              "      <td>No</td>\n",
              "      <td>5849</td>\n",
              "      <td>0.0</td>\n",
              "      <td>NaN</td>\n",
              "      <td>360.0</td>\n",
              "      <td>1.0</td>\n",
              "      <td>Urban</td>\n",
              "      <td>Y</td>\n",
              "    </tr>\n",
              "    <tr>\n",
              "      <th>1</th>\n",
              "      <td>Male</td>\n",
              "      <td>Yes</td>\n",
              "      <td>1</td>\n",
              "      <td>Graduate</td>\n",
              "      <td>No</td>\n",
              "      <td>4583</td>\n",
              "      <td>1508.0</td>\n",
              "      <td>128.0</td>\n",
              "      <td>360.0</td>\n",
              "      <td>1.0</td>\n",
              "      <td>Rural</td>\n",
              "      <td>N</td>\n",
              "    </tr>\n",
              "    <tr>\n",
              "      <th>2</th>\n",
              "      <td>Male</td>\n",
              "      <td>Yes</td>\n",
              "      <td>0</td>\n",
              "      <td>Graduate</td>\n",
              "      <td>Yes</td>\n",
              "      <td>3000</td>\n",
              "      <td>0.0</td>\n",
              "      <td>66.0</td>\n",
              "      <td>360.0</td>\n",
              "      <td>1.0</td>\n",
              "      <td>Urban</td>\n",
              "      <td>Y</td>\n",
              "    </tr>\n",
              "    <tr>\n",
              "      <th>3</th>\n",
              "      <td>Male</td>\n",
              "      <td>Yes</td>\n",
              "      <td>0</td>\n",
              "      <td>Not Graduate</td>\n",
              "      <td>No</td>\n",
              "      <td>2583</td>\n",
              "      <td>2358.0</td>\n",
              "      <td>120.0</td>\n",
              "      <td>360.0</td>\n",
              "      <td>1.0</td>\n",
              "      <td>Urban</td>\n",
              "      <td>Y</td>\n",
              "    </tr>\n",
              "    <tr>\n",
              "      <th>4</th>\n",
              "      <td>Male</td>\n",
              "      <td>No</td>\n",
              "      <td>0</td>\n",
              "      <td>Graduate</td>\n",
              "      <td>No</td>\n",
              "      <td>6000</td>\n",
              "      <td>0.0</td>\n",
              "      <td>141.0</td>\n",
              "      <td>360.0</td>\n",
              "      <td>1.0</td>\n",
              "      <td>Urban</td>\n",
              "      <td>Y</td>\n",
              "    </tr>\n",
              "  </tbody>\n",
              "</table>\n",
              "</div>\n",
              "    <div class=\"colab-df-buttons\">\n",
              "\n",
              "  <div class=\"colab-df-container\">\n",
              "    <button class=\"colab-df-convert\" onclick=\"convertToInteractive('df-d4bdf5ae-2107-4eda-868f-215b9fcfca31')\"\n",
              "            title=\"Convert this dataframe to an interactive table.\"\n",
              "            style=\"display:none;\">\n",
              "\n",
              "  <svg xmlns=\"http://www.w3.org/2000/svg\" height=\"24px\" viewBox=\"0 -960 960 960\">\n",
              "    <path d=\"M120-120v-720h720v720H120Zm60-500h600v-160H180v160Zm220 220h160v-160H400v160Zm0 220h160v-160H400v160ZM180-400h160v-160H180v160Zm440 0h160v-160H620v160ZM180-180h160v-160H180v160Zm440 0h160v-160H620v160Z\"/>\n",
              "  </svg>\n",
              "    </button>\n",
              "\n",
              "  <style>\n",
              "    .colab-df-container {\n",
              "      display:flex;\n",
              "      gap: 12px;\n",
              "    }\n",
              "\n",
              "    .colab-df-convert {\n",
              "      background-color: #E8F0FE;\n",
              "      border: none;\n",
              "      border-radius: 50%;\n",
              "      cursor: pointer;\n",
              "      display: none;\n",
              "      fill: #1967D2;\n",
              "      height: 32px;\n",
              "      padding: 0 0 0 0;\n",
              "      width: 32px;\n",
              "    }\n",
              "\n",
              "    .colab-df-convert:hover {\n",
              "      background-color: #E2EBFA;\n",
              "      box-shadow: 0px 1px 2px rgba(60, 64, 67, 0.3), 0px 1px 3px 1px rgba(60, 64, 67, 0.15);\n",
              "      fill: #174EA6;\n",
              "    }\n",
              "\n",
              "    .colab-df-buttons div {\n",
              "      margin-bottom: 4px;\n",
              "    }\n",
              "\n",
              "    [theme=dark] .colab-df-convert {\n",
              "      background-color: #3B4455;\n",
              "      fill: #D2E3FC;\n",
              "    }\n",
              "\n",
              "    [theme=dark] .colab-df-convert:hover {\n",
              "      background-color: #434B5C;\n",
              "      box-shadow: 0px 1px 3px 1px rgba(0, 0, 0, 0.15);\n",
              "      filter: drop-shadow(0px 1px 2px rgba(0, 0, 0, 0.3));\n",
              "      fill: #FFFFFF;\n",
              "    }\n",
              "  </style>\n",
              "\n",
              "    <script>\n",
              "      const buttonEl =\n",
              "        document.querySelector('#df-d4bdf5ae-2107-4eda-868f-215b9fcfca31 button.colab-df-convert');\n",
              "      buttonEl.style.display =\n",
              "        google.colab.kernel.accessAllowed ? 'block' : 'none';\n",
              "\n",
              "      async function convertToInteractive(key) {\n",
              "        const element = document.querySelector('#df-d4bdf5ae-2107-4eda-868f-215b9fcfca31');\n",
              "        const dataTable =\n",
              "          await google.colab.kernel.invokeFunction('convertToInteractive',\n",
              "                                                    [key], {});\n",
              "        if (!dataTable) return;\n",
              "\n",
              "        const docLinkHtml = 'Like what you see? Visit the ' +\n",
              "          '<a target=\"_blank\" href=https://colab.research.google.com/notebooks/data_table.ipynb>data table notebook</a>'\n",
              "          + ' to learn more about interactive tables.';\n",
              "        element.innerHTML = '';\n",
              "        dataTable['output_type'] = 'display_data';\n",
              "        await google.colab.output.renderOutput(dataTable, element);\n",
              "        const docLink = document.createElement('div');\n",
              "        docLink.innerHTML = docLinkHtml;\n",
              "        element.appendChild(docLink);\n",
              "      }\n",
              "    </script>\n",
              "  </div>\n",
              "\n",
              "\n",
              "    <div id=\"df-d9936663-f9bb-49ec-bb83-8849ee889b94\">\n",
              "      <button class=\"colab-df-quickchart\" onclick=\"quickchart('df-d9936663-f9bb-49ec-bb83-8849ee889b94')\"\n",
              "                title=\"Suggest charts\"\n",
              "                style=\"display:none;\">\n",
              "\n",
              "<svg xmlns=\"http://www.w3.org/2000/svg\" height=\"24px\"viewBox=\"0 0 24 24\"\n",
              "     width=\"24px\">\n",
              "    <g>\n",
              "        <path d=\"M19 3H5c-1.1 0-2 .9-2 2v14c0 1.1.9 2 2 2h14c1.1 0 2-.9 2-2V5c0-1.1-.9-2-2-2zM9 17H7v-7h2v7zm4 0h-2V7h2v10zm4 0h-2v-4h2v4z\"/>\n",
              "    </g>\n",
              "</svg>\n",
              "      </button>\n",
              "\n",
              "<style>\n",
              "  .colab-df-quickchart {\n",
              "      --bg-color: #E8F0FE;\n",
              "      --fill-color: #1967D2;\n",
              "      --hover-bg-color: #E2EBFA;\n",
              "      --hover-fill-color: #174EA6;\n",
              "      --disabled-fill-color: #AAA;\n",
              "      --disabled-bg-color: #DDD;\n",
              "  }\n",
              "\n",
              "  [theme=dark] .colab-df-quickchart {\n",
              "      --bg-color: #3B4455;\n",
              "      --fill-color: #D2E3FC;\n",
              "      --hover-bg-color: #434B5C;\n",
              "      --hover-fill-color: #FFFFFF;\n",
              "      --disabled-bg-color: #3B4455;\n",
              "      --disabled-fill-color: #666;\n",
              "  }\n",
              "\n",
              "  .colab-df-quickchart {\n",
              "    background-color: var(--bg-color);\n",
              "    border: none;\n",
              "    border-radius: 50%;\n",
              "    cursor: pointer;\n",
              "    display: none;\n",
              "    fill: var(--fill-color);\n",
              "    height: 32px;\n",
              "    padding: 0;\n",
              "    width: 32px;\n",
              "  }\n",
              "\n",
              "  .colab-df-quickchart:hover {\n",
              "    background-color: var(--hover-bg-color);\n",
              "    box-shadow: 0 1px 2px rgba(60, 64, 67, 0.3), 0 1px 3px 1px rgba(60, 64, 67, 0.15);\n",
              "    fill: var(--button-hover-fill-color);\n",
              "  }\n",
              "\n",
              "  .colab-df-quickchart-complete:disabled,\n",
              "  .colab-df-quickchart-complete:disabled:hover {\n",
              "    background-color: var(--disabled-bg-color);\n",
              "    fill: var(--disabled-fill-color);\n",
              "    box-shadow: none;\n",
              "  }\n",
              "\n",
              "  .colab-df-spinner {\n",
              "    border: 2px solid var(--fill-color);\n",
              "    border-color: transparent;\n",
              "    border-bottom-color: var(--fill-color);\n",
              "    animation:\n",
              "      spin 1s steps(1) infinite;\n",
              "  }\n",
              "\n",
              "  @keyframes spin {\n",
              "    0% {\n",
              "      border-color: transparent;\n",
              "      border-bottom-color: var(--fill-color);\n",
              "      border-left-color: var(--fill-color);\n",
              "    }\n",
              "    20% {\n",
              "      border-color: transparent;\n",
              "      border-left-color: var(--fill-color);\n",
              "      border-top-color: var(--fill-color);\n",
              "    }\n",
              "    30% {\n",
              "      border-color: transparent;\n",
              "      border-left-color: var(--fill-color);\n",
              "      border-top-color: var(--fill-color);\n",
              "      border-right-color: var(--fill-color);\n",
              "    }\n",
              "    40% {\n",
              "      border-color: transparent;\n",
              "      border-right-color: var(--fill-color);\n",
              "      border-top-color: var(--fill-color);\n",
              "    }\n",
              "    60% {\n",
              "      border-color: transparent;\n",
              "      border-right-color: var(--fill-color);\n",
              "    }\n",
              "    80% {\n",
              "      border-color: transparent;\n",
              "      border-right-color: var(--fill-color);\n",
              "      border-bottom-color: var(--fill-color);\n",
              "    }\n",
              "    90% {\n",
              "      border-color: transparent;\n",
              "      border-bottom-color: var(--fill-color);\n",
              "    }\n",
              "  }\n",
              "</style>\n",
              "\n",
              "      <script>\n",
              "        async function quickchart(key) {\n",
              "          const quickchartButtonEl =\n",
              "            document.querySelector('#' + key + ' button');\n",
              "          quickchartButtonEl.disabled = true;  // To prevent multiple clicks.\n",
              "          quickchartButtonEl.classList.add('colab-df-spinner');\n",
              "          try {\n",
              "            const charts = await google.colab.kernel.invokeFunction(\n",
              "                'suggestCharts', [key], {});\n",
              "          } catch (error) {\n",
              "            console.error('Error during call to suggestCharts:', error);\n",
              "          }\n",
              "          quickchartButtonEl.classList.remove('colab-df-spinner');\n",
              "          quickchartButtonEl.classList.add('colab-df-quickchart-complete');\n",
              "        }\n",
              "        (() => {\n",
              "          let quickchartButtonEl =\n",
              "            document.querySelector('#df-d9936663-f9bb-49ec-bb83-8849ee889b94 button');\n",
              "          quickchartButtonEl.style.display =\n",
              "            google.colab.kernel.accessAllowed ? 'block' : 'none';\n",
              "        })();\n",
              "      </script>\n",
              "    </div>\n",
              "\n",
              "    </div>\n",
              "  </div>\n"
            ],
            "application/vnd.google.colaboratory.intrinsic+json": {
              "type": "dataframe",
              "variable_name": "df",
              "summary": "{\n  \"name\": \"df\",\n  \"rows\": 614,\n  \"fields\": [\n    {\n      \"column\": \"Gender\",\n      \"properties\": {\n        \"dtype\": \"category\",\n        \"num_unique_values\": 2,\n        \"samples\": [\n          \"Female\",\n          \"Male\"\n        ],\n        \"semantic_type\": \"\",\n        \"description\": \"\"\n      }\n    },\n    {\n      \"column\": \"Married\",\n      \"properties\": {\n        \"dtype\": \"category\",\n        \"num_unique_values\": 2,\n        \"samples\": [\n          \"Yes\",\n          \"No\"\n        ],\n        \"semantic_type\": \"\",\n        \"description\": \"\"\n      }\n    },\n    {\n      \"column\": \"Dependents\",\n      \"properties\": {\n        \"dtype\": \"category\",\n        \"num_unique_values\": 4,\n        \"samples\": [\n          \"1\",\n          \"3+\"\n        ],\n        \"semantic_type\": \"\",\n        \"description\": \"\"\n      }\n    },\n    {\n      \"column\": \"Education\",\n      \"properties\": {\n        \"dtype\": \"category\",\n        \"num_unique_values\": 2,\n        \"samples\": [\n          \"Not Graduate\",\n          \"Graduate\"\n        ],\n        \"semantic_type\": \"\",\n        \"description\": \"\"\n      }\n    },\n    {\n      \"column\": \"Self_Employed\",\n      \"properties\": {\n        \"dtype\": \"category\",\n        \"num_unique_values\": 2,\n        \"samples\": [\n          \"Yes\",\n          \"No\"\n        ],\n        \"semantic_type\": \"\",\n        \"description\": \"\"\n      }\n    },\n    {\n      \"column\": \"ApplicantIncome\",\n      \"properties\": {\n        \"dtype\": \"number\",\n        \"std\": 6109,\n        \"min\": 150,\n        \"max\": 81000,\n        \"num_unique_values\": 505,\n        \"samples\": [\n          8333,\n          4342\n        ],\n        \"semantic_type\": \"\",\n        \"description\": \"\"\n      }\n    },\n    {\n      \"column\": \"CoapplicantIncome\",\n      \"properties\": {\n        \"dtype\": \"number\",\n        \"std\": 2926.2483692241917,\n        \"min\": 0.0,\n        \"max\": 41667.0,\n        \"num_unique_values\": 287,\n        \"samples\": [\n          1840.0,\n          2042.0\n        ],\n        \"semantic_type\": \"\",\n        \"description\": \"\"\n      }\n    },\n    {\n      \"column\": \"LoanAmount\",\n      \"properties\": {\n        \"dtype\": \"number\",\n        \"std\": 85.58732523570545,\n        \"min\": 9.0,\n        \"max\": 700.0,\n        \"num_unique_values\": 203,\n        \"samples\": [\n          100.0,\n          70.0\n        ],\n        \"semantic_type\": \"\",\n        \"description\": \"\"\n      }\n    },\n    {\n      \"column\": \"Loan_Amount_Term\",\n      \"properties\": {\n        \"dtype\": \"number\",\n        \"std\": 65.12040985461256,\n        \"min\": 12.0,\n        \"max\": 480.0,\n        \"num_unique_values\": 10,\n        \"samples\": [\n          84.0,\n          120.0\n        ],\n        \"semantic_type\": \"\",\n        \"description\": \"\"\n      }\n    },\n    {\n      \"column\": \"Credit_History\",\n      \"properties\": {\n        \"dtype\": \"number\",\n        \"std\": 0.3648783192364049,\n        \"min\": 0.0,\n        \"max\": 1.0,\n        \"num_unique_values\": 2,\n        \"samples\": [\n          0.0,\n          1.0\n        ],\n        \"semantic_type\": \"\",\n        \"description\": \"\"\n      }\n    },\n    {\n      \"column\": \"Property_Area\",\n      \"properties\": {\n        \"dtype\": \"category\",\n        \"num_unique_values\": 3,\n        \"samples\": [\n          \"Urban\",\n          \"Rural\"\n        ],\n        \"semantic_type\": \"\",\n        \"description\": \"\"\n      }\n    },\n    {\n      \"column\": \"Loan_Status\",\n      \"properties\": {\n        \"dtype\": \"category\",\n        \"num_unique_values\": 2,\n        \"samples\": [\n          \"N\",\n          \"Y\"\n        ],\n        \"semantic_type\": \"\",\n        \"description\": \"\"\n      }\n    }\n  ]\n}"
            }
          },
          "metadata": {},
          "execution_count": 42
        }
      ]
    },
    {
      "cell_type": "code",
      "source": [
        "df.isnull().sum()"
      ],
      "metadata": {
        "id": "NYBA-VZn78Xp",
        "outputId": "9bb70f06-4c0e-4969-bf96-b76ecede59b0",
        "colab": {
          "base_uri": "https://localhost:8080/",
          "height": 460
        }
      },
      "execution_count": 43,
      "outputs": [
        {
          "output_type": "execute_result",
          "data": {
            "text/plain": [
              "Gender               13\n",
              "Married               3\n",
              "Dependents           15\n",
              "Education             0\n",
              "Self_Employed        32\n",
              "ApplicantIncome       0\n",
              "CoapplicantIncome     0\n",
              "LoanAmount           22\n",
              "Loan_Amount_Term     14\n",
              "Credit_History       50\n",
              "Property_Area         0\n",
              "Loan_Status           0\n",
              "dtype: int64"
            ],
            "text/html": [
              "<div>\n",
              "<style scoped>\n",
              "    .dataframe tbody tr th:only-of-type {\n",
              "        vertical-align: middle;\n",
              "    }\n",
              "\n",
              "    .dataframe tbody tr th {\n",
              "        vertical-align: top;\n",
              "    }\n",
              "\n",
              "    .dataframe thead th {\n",
              "        text-align: right;\n",
              "    }\n",
              "</style>\n",
              "<table border=\"1\" class=\"dataframe\">\n",
              "  <thead>\n",
              "    <tr style=\"text-align: right;\">\n",
              "      <th></th>\n",
              "      <th>0</th>\n",
              "    </tr>\n",
              "  </thead>\n",
              "  <tbody>\n",
              "    <tr>\n",
              "      <th>Gender</th>\n",
              "      <td>13</td>\n",
              "    </tr>\n",
              "    <tr>\n",
              "      <th>Married</th>\n",
              "      <td>3</td>\n",
              "    </tr>\n",
              "    <tr>\n",
              "      <th>Dependents</th>\n",
              "      <td>15</td>\n",
              "    </tr>\n",
              "    <tr>\n",
              "      <th>Education</th>\n",
              "      <td>0</td>\n",
              "    </tr>\n",
              "    <tr>\n",
              "      <th>Self_Employed</th>\n",
              "      <td>32</td>\n",
              "    </tr>\n",
              "    <tr>\n",
              "      <th>ApplicantIncome</th>\n",
              "      <td>0</td>\n",
              "    </tr>\n",
              "    <tr>\n",
              "      <th>CoapplicantIncome</th>\n",
              "      <td>0</td>\n",
              "    </tr>\n",
              "    <tr>\n",
              "      <th>LoanAmount</th>\n",
              "      <td>22</td>\n",
              "    </tr>\n",
              "    <tr>\n",
              "      <th>Loan_Amount_Term</th>\n",
              "      <td>14</td>\n",
              "    </tr>\n",
              "    <tr>\n",
              "      <th>Credit_History</th>\n",
              "      <td>50</td>\n",
              "    </tr>\n",
              "    <tr>\n",
              "      <th>Property_Area</th>\n",
              "      <td>0</td>\n",
              "    </tr>\n",
              "    <tr>\n",
              "      <th>Loan_Status</th>\n",
              "      <td>0</td>\n",
              "    </tr>\n",
              "  </tbody>\n",
              "</table>\n",
              "</div><br><label><b>dtype:</b> int64</label>"
            ]
          },
          "metadata": {},
          "execution_count": 43
        }
      ]
    },
    {
      "cell_type": "markdown",
      "source": [
        "### 2. Medidas de tendencia central (media, mediana, moda)"
      ],
      "metadata": {
        "id": "LodYmLpGbCZl"
      }
    },
    {
      "cell_type": "code",
      "source": [
        "df_mean = df.copy()\n"
      ],
      "metadata": {
        "id": "ECCYe3MF8JkM"
      },
      "execution_count": 44,
      "outputs": []
    },
    {
      "cell_type": "code",
      "source": [
        "df_mean[\"LoanAmount\"].fillna(df_mean[\"LoanAmount\"].mean(), inplace=True)"
      ],
      "metadata": {
        "id": "C_cQpShv8V0p"
      },
      "execution_count": 53,
      "outputs": []
    },
    {
      "cell_type": "code",
      "source": [
        "df_mean[\"LoanAmount\"].head()"
      ],
      "metadata": {
        "id": "B4Ol0TVv9InX",
        "outputId": "91d6a610-0809-4df4-8882-149f120ac627",
        "colab": {
          "base_uri": "https://localhost:8080/",
          "height": 241
        }
      },
      "execution_count": 54,
      "outputs": [
        {
          "output_type": "execute_result",
          "data": {
            "text/plain": [
              "0    146.412162\n",
              "1    128.000000\n",
              "2     66.000000\n",
              "3    120.000000\n",
              "4    141.000000\n",
              "Name: LoanAmount, dtype: float64"
            ],
            "text/html": [
              "<div>\n",
              "<style scoped>\n",
              "    .dataframe tbody tr th:only-of-type {\n",
              "        vertical-align: middle;\n",
              "    }\n",
              "\n",
              "    .dataframe tbody tr th {\n",
              "        vertical-align: top;\n",
              "    }\n",
              "\n",
              "    .dataframe thead th {\n",
              "        text-align: right;\n",
              "    }\n",
              "</style>\n",
              "<table border=\"1\" class=\"dataframe\">\n",
              "  <thead>\n",
              "    <tr style=\"text-align: right;\">\n",
              "      <th></th>\n",
              "      <th>LoanAmount</th>\n",
              "    </tr>\n",
              "  </thead>\n",
              "  <tbody>\n",
              "    <tr>\n",
              "      <th>0</th>\n",
              "      <td>146.412162</td>\n",
              "    </tr>\n",
              "    <tr>\n",
              "      <th>1</th>\n",
              "      <td>128.000000</td>\n",
              "    </tr>\n",
              "    <tr>\n",
              "      <th>2</th>\n",
              "      <td>66.000000</td>\n",
              "    </tr>\n",
              "    <tr>\n",
              "      <th>3</th>\n",
              "      <td>120.000000</td>\n",
              "    </tr>\n",
              "    <tr>\n",
              "      <th>4</th>\n",
              "      <td>141.000000</td>\n",
              "    </tr>\n",
              "  </tbody>\n",
              "</table>\n",
              "</div><br><label><b>dtype:</b> float64</label>"
            ]
          },
          "metadata": {},
          "execution_count": 54
        }
      ]
    },
    {
      "cell_type": "code",
      "source": [
        "df_mean[\"Gender\"].fillna('Missing', inplace=True)"
      ],
      "metadata": {
        "id": "1JCmRqNJ9SdQ"
      },
      "execution_count": 57,
      "outputs": []
    },
    {
      "cell_type": "code",
      "source": [
        "df_mean[\"Gender\"].head(30)"
      ],
      "metadata": {
        "id": "u9nUqbhi9j0u"
      },
      "execution_count": null,
      "outputs": []
    },
    {
      "cell_type": "code",
      "execution_count": null,
      "metadata": {
        "id": "80twajk3aaHM"
      },
      "outputs": [],
      "source": [
        "df_mean[\"LoanAmount\"].fillna(df_mean[\"LoanAmount\"].mean(), inplace=True)\n",
        "df_mean[\"Gender\"].fillna(df_mean[\"Gender\"].mode()[0], inplace=True)\n",
        "df_mean[\"Self_Employed\"].fillna(df_mean[\"Self_Employed\"].mode()[0], inplace=True)\n",
        "df_mean[\"Dependents\"].fillna(df_mean[\"Dependents\"].mode()[0], inplace=True)\n",
        "df_mean[\"Credit_History\"].fillna(df_mean[\"Credit_History\"].mode()[0], inplace=True)\n"
      ]
    },
    {
      "cell_type": "code",
      "source": [
        "numeric_features = df_mean.select_dtypes(include='float64').columns.tolist()\n",
        "df_mean[numeric_features].fillna(df_mean[numeric_features].mean(), inplace=True)"
      ],
      "metadata": {
        "id": "UWcOH16x91lz",
        "outputId": "3f44477b-4244-499a-8f61-57e233ed6f5d",
        "colab": {
          "base_uri": "https://localhost:8080/"
        }
      },
      "execution_count": 66,
      "outputs": [
        {
          "output_type": "stream",
          "name": "stderr",
          "text": [
            "/tmp/ipython-input-66-240499665.py:3: SettingWithCopyWarning: \n",
            "A value is trying to be set on a copy of a slice from a DataFrame\n",
            "\n",
            "See the caveats in the documentation: https://pandas.pydata.org/pandas-docs/stable/user_guide/indexing.html#returning-a-view-versus-a-copy\n",
            "  df_mean[numeric_features].fillna(df_mean[numeric_features].mean(), inplace=True)\n"
          ]
        }
      ]
    },
    {
      "cell_type": "code",
      "source": [],
      "metadata": {
        "id": "h-YJ2rjJ-j22"
      },
      "execution_count": null,
      "outputs": []
    },
    {
      "cell_type": "markdown",
      "source": [
        "### 3. Imputación por regresión lineal"
      ],
      "metadata": {
        "id": "wQLWxMqmbK1L"
      }
    },
    {
      "cell_type": "markdown",
      "source": [
        "Importamos el modelo de regresión lineal de scikit-learn\n"
      ],
      "metadata": {
        "id": "WW6LW43exv_G"
      }
    },
    {
      "cell_type": "code",
      "source": [
        "from sklearn.linear_model import LinearRegression"
      ],
      "metadata": {
        "id": "LJi0IeN-xFG8"
      },
      "execution_count": 14,
      "outputs": []
    },
    {
      "cell_type": "markdown",
      "source": [
        "Hacemos una copia del dataframe original para no modificarlo directamente\n"
      ],
      "metadata": {
        "id": "8NVRcys0xsSv"
      }
    },
    {
      "cell_type": "code",
      "source": [
        "df_reg = df.copy()"
      ],
      "metadata": {
        "id": "7BZ1G8k0bODa"
      },
      "execution_count": 15,
      "outputs": []
    },
    {
      "cell_type": "code",
      "source": [
        "# Separamos las filas donde \"LoanAmount\" NO es nulo (estos datos los usaremos para entrenar el modelo)\n",
        "train = df_reg[df_reg[\"LoanAmount\"].notnull()]\n",
        "\n",
        "# Separamos las filas donde \"LoanAmount\" ES nulo (estos datos se imputarán)\n",
        "test = df_reg[df_reg[\"LoanAmount\"].isnull()]"
      ],
      "metadata": {
        "id": "rChdid-JxTL2"
      },
      "execution_count": 16,
      "outputs": []
    },
    {
      "cell_type": "markdown",
      "source": [
        "Seleccionamos como variables predictoras el ingreso del solicitante y del co-solicitante para el conjunto de entrenamiento\n"
      ],
      "metadata": {
        "id": "nnogvSmVxqFo"
      }
    },
    {
      "cell_type": "code",
      "source": [
        "X_train = train[[\"ApplicantIncome\", \"CoapplicantIncome\"]]\n",
        "\n",
        "# La variable objetivo a predecir es \"LoanAmount\"\n",
        "y_train = train[\"LoanAmount\"]\n",
        "\n",
        "# Para el conjunto de prueba (filas con \"LoanAmount\" nulo), también seleccionamos las variables predictoras\n",
        "X_test = test[[\"ApplicantIncome\", \"CoapplicantIncome\"]]\n"
      ],
      "metadata": {
        "id": "jaB0Z5fLxU40"
      },
      "execution_count": 17,
      "outputs": []
    },
    {
      "cell_type": "markdown",
      "source": [
        "Instanciamos y entrenamos el modelo de regresión lineal"
      ],
      "metadata": {
        "id": "fGvwNdi5xiRN"
      }
    },
    {
      "cell_type": "code",
      "source": [
        "model = LinearRegression()\n",
        "model.fit(X_train, y_train)"
      ],
      "metadata": {
        "id": "36XKfdsLxemv"
      },
      "execution_count": null,
      "outputs": []
    },
    {
      "cell_type": "markdown",
      "source": [
        " el modelo entrenado para predecir los valores faltantes de \"LoanAmount\"\n"
      ],
      "metadata": {
        "id": "v2Q8Eqs2xk9l"
      }
    },
    {
      "cell_type": "code",
      "source": [
        "preds = model.predict(X_test)"
      ],
      "metadata": {
        "id": "5aMTe4AWxfxa"
      },
      "execution_count": 19,
      "outputs": []
    },
    {
      "cell_type": "markdown",
      "source": [
        "Asignamos los valores imputados (predichos) a las posiciones originales donde \"LoanAmount\" era nulo\n"
      ],
      "metadata": {
        "id": "QXaRHlRzxnHH"
      }
    },
    {
      "cell_type": "code",
      "source": [
        "df_reg.loc[df_reg[\"LoanAmount\"].isnull(), \"LoanAmount\"] = preds\n"
      ],
      "metadata": {
        "id": "wfObMr8DxgpH"
      },
      "execution_count": 20,
      "outputs": []
    },
    {
      "cell_type": "markdown",
      "source": [
        "### 4. Imputación KNN"
      ],
      "metadata": {
        "id": "YFnm0CuwbQi8"
      }
    },
    {
      "cell_type": "markdown",
      "source": [
        "Importamos el imputador KNN de scikit-learn\n",
        "y LabelEncoder para convertir variables categóricas a numéricas\n",
        "\n"
      ],
      "metadata": {
        "id": "Phowr3P6y10D"
      }
    },
    {
      "cell_type": "code",
      "source": [
        "from sklearn.impute import KNNImputer\n",
        "from sklearn.preprocessing import LabelEncoder"
      ],
      "metadata": {
        "id": "RCsES-Y3y0V0"
      },
      "execution_count": 21,
      "outputs": []
    },
    {
      "cell_type": "markdown",
      "source": [
        "Hacemos una copia del dataframe original para no modificarlo directamente\n"
      ],
      "metadata": {
        "id": "PNQsTaJmzIDF"
      }
    },
    {
      "cell_type": "code",
      "source": [
        "df_knn = df.copy()"
      ],
      "metadata": {
        "id": "IZtvpYFybUN5"
      },
      "execution_count": 22,
      "outputs": []
    },
    {
      "cell_type": "code",
      "source": [
        "# Aplicamos LabelEncoder a todas las columnas del dataframe.\n",
        "# Esto convierte variables categóricas (strings) en valores numéricos.\n",
        "# Nota: KNNImputer solo funciona con variables numéricas.\n",
        "df_knn = df_knn.apply(LabelEncoder().fit_transform)"
      ],
      "metadata": {
        "id": "KFpby7TKzQdT"
      },
      "execution_count": 23,
      "outputs": []
    },
    {
      "cell_type": "code",
      "source": [
        "# Creamos una instancia del imputador KNN\n",
        "# n_neighbors=30 indica que se usarán los 30 registros más cercanos (similares)\n",
        "knn_imputer = KNNImputer(n_neighbors=30)"
      ],
      "metadata": {
        "id": "fhCpWXn6zTUP"
      },
      "execution_count": 24,
      "outputs": []
    },
    {
      "cell_type": "code",
      "source": [
        "# Aplicamos el imputador al dataframe y reconstruimos el DataFrame imputado\n",
        "# fit_transform encuentra los valores faltantes y los imputa usando los vecinos más cercanos\n",
        "df_knn_imputed = pd.DataFrame(knn_imputer.fit_transform(df_knn), columns=df_knn.columns)"
      ],
      "metadata": {
        "id": "kqEaA7tXzT1Q"
      },
      "execution_count": 25,
      "outputs": []
    },
    {
      "cell_type": "markdown",
      "source": [
        "### 5. Imputación con XGBoost (modelo para imputar)"
      ],
      "metadata": {
        "id": "6BS0jGpibWTH"
      }
    },
    {
      "cell_type": "code",
      "source": [
        "# Importamos XGBoost, un modelo de gradient boosting muy potente para tareas de regresión y clasificación\n",
        "import xgboost as xgb\n",
        "\n"
      ],
      "metadata": {
        "id": "UunQbsprzjHM"
      },
      "execution_count": 26,
      "outputs": []
    },
    {
      "cell_type": "code",
      "source": [
        "# Hacemos una copia del DataFrame original para no modificarlo directamente\n",
        "df_xgb = df.copy()"
      ],
      "metadata": {
        "id": "hDf0-ugmzj5K"
      },
      "execution_count": 27,
      "outputs": []
    },
    {
      "cell_type": "code",
      "source": [
        "\n",
        "\n",
        "# Definimos una función para imputar una columna con valores faltantes usando un modelo XGBoost Regressor\n",
        "def xgb_impute(df, target_col):\n",
        "    # 1. Separar el conjunto de entrenamiento (valores NO nulos) y prueba (valores nulos) para la variable objetivo\n",
        "    train = df[df[target_col].notnull()]\n",
        "    test = df[df[target_col].isnull()]\n",
        "\n",
        "    # 2. Seleccionar las variables predictoras: excluye la columna objetivo y las columnas completamente vacías\n",
        "    features = [col for col in df.columns if col != target_col and df[col].notnull().sum() > 0]\n",
        "\n",
        "    # 3. Elimina registros del entrenamiento que aún tienen missing en las variables predictoras seleccionadas\n",
        "    train = train.dropna(subset=features)\n",
        "\n",
        "    # 4. Convierte variables categóricas a dummies (One-Hot Encoding) para entrenamiento\n",
        "    X_train = pd.get_dummies(train[features])\n",
        "\n",
        "    # 5. Define la variable objetivo (lo que vamos a imputar)\n",
        "    y_train = train[target_col]\n",
        "\n",
        "    # 6. Convierte también el conjunto de prueba a dummies\n",
        "    X_test = pd.get_dummies(test[features])\n",
        "\n",
        "    # 7. Asegura que X_test tenga las mismas columnas que X_train (rellena columnas faltantes con 0)\n",
        "    X_test = X_test.reindex(columns=X_train.columns, fill_value=0)\n",
        "\n",
        "    # 8. Entrena el modelo XGBoost con 100 árboles\n",
        "    model = xgb.XGBRegressor(n_estimators=100)\n",
        "    model.fit(X_train, y_train)\n",
        "\n",
        "    # 9. Predice los valores faltantes en la variable objetivo\n",
        "    preds = model.predict(X_test)\n",
        "\n",
        "    # 10. Asigna los valores imputados a las posiciones originales con missing\n",
        "    df.loc[df[target_col].isnull(), target_col] = preds\n",
        "\n",
        "    # 11. Devuelve el DataFrame imputado\n",
        "    return df\n",
        "\n",
        "# Aplicamos la función para imputar los valores faltantes en la variable \"LoanAmount\"\n",
        "df_xgb = xgb_impute(df_xgb, \"LoanAmount\")\n"
      ],
      "metadata": {
        "id": "bg-F6wCNba5K"
      },
      "execution_count": 28,
      "outputs": []
    },
    {
      "cell_type": "markdown",
      "source": [
        "### 6. Imputación MICE (Multivariate Imputation)"
      ],
      "metadata": {
        "id": "Wu8e7VBcbc27"
      }
    },
    {
      "cell_type": "code",
      "source": [
        "# Importamos IterativeImputer desde fancyimpute (implementa el algoritmo MICE)\n",
        "from fancyimpute import IterativeImputer\n"
      ],
      "metadata": {
        "id": "tUOgnm10zwqT"
      },
      "execution_count": 29,
      "outputs": []
    },
    {
      "cell_type": "code",
      "source": [
        "# Hacemos una copia del DataFrame original para no modificarlo directamente\n",
        "df_mice = df.copy()"
      ],
      "metadata": {
        "id": "7k6byNLKzxZF"
      },
      "execution_count": 30,
      "outputs": []
    },
    {
      "cell_type": "code",
      "source": [
        "\n",
        "# Aplicamos LabelEncoder a todas las columnas para convertir variables categóricas a numéricas\n",
        "# Esto es necesario porque MICE solo puede trabajar con variables numéricas\n",
        "df_mice = df_mice.apply(LabelEncoder().fit_transform)\n",
        "\n",
        "# Creamos una instancia del imputador MICE (IterativeImputer)\n",
        "# Este imputador usa regresiones iterativas entre variables para predecir valores faltantes\n",
        "mice = IterativeImputer()\n",
        "\n",
        "# Aplicamos el imputador a los datos\n",
        "# fit_transform entrena los modelos internamente y realiza la imputación\n",
        "df_mice_imputed = pd.DataFrame(mice.fit_transform(df_mice), columns=df_mice.columns)\n"
      ],
      "metadata": {
        "id": "Tf_DU7a4bfZw"
      },
      "execution_count": 31,
      "outputs": []
    },
    {
      "cell_type": "markdown",
      "source": [
        "### 7. Autoencoders para imputación"
      ],
      "metadata": {
        "id": "rUCnwkphbhF3"
      }
    },
    {
      "cell_type": "code",
      "source": [
        "# Importamos TensorFlow y los componentes necesarios para construir una red neuronal (autoencoder)\n",
        "import tensorflow as tf\n",
        "from tensorflow.keras.models import Sequential\n",
        "from tensorflow.keras.layers import Dense\n",
        "\n",
        "# Hacemos una copia del DataFrame original para no modificarlo directamente\n",
        "df_auto = df.copy()\n",
        "\n",
        "# Convertimos todas las variables categóricas a numéricas con LabelEncoder\n",
        "df_auto = df_auto.apply(LabelEncoder().fit_transform)\n",
        "\n",
        "# Imputamos valores faltantes inicialmente con la media de cada columna\n",
        "# Esto es necesario porque las redes neuronales no pueden recibir NaNs como entrada\n",
        "df_auto = df_auto.fillna(df_auto.mean())\n",
        "\n",
        "# Convertimos el DataFrame a un array de NumPy para entrenar la red\n",
        "X = df_auto.values\n"
      ],
      "metadata": {
        "id": "vt8RT8IBbiuR"
      },
      "execution_count": 32,
      "outputs": []
    },
    {
      "cell_type": "code",
      "source": [
        "# Definimos la arquitectura del Autoencoder (una red neuronal simétrica)\n",
        "model = Sequential([\n",
        "    Dense(32, activation='relu', input_shape=(X.shape[1],)),  # Capa de entrada → 32 neuronas\n",
        "    Dense(16, activation='relu'),                              # Capa oculta comprimida (bottleneck)\n",
        "    Dense(32, activation='relu'),                              # Capa de expansión (simétrica)\n",
        "    Dense(X.shape[1])                                          # Capa de salida (reconstrucción completa)\n",
        "])\n"
      ],
      "metadata": {
        "id": "-CExkHDV0ZJA"
      },
      "execution_count": null,
      "outputs": []
    },
    {
      "cell_type": "code",
      "source": [
        "# Compilamos el modelo usando el optimizador Adam y la pérdida de error cuadrático medio (MSE)\n",
        "model.compile(optimizer='adam', loss='mse')\n",
        "\n",
        "# Entrenamos el modelo para que aprenda a reconstruir sus propias entradas\n",
        "# El autoencoder aprende patrones en los datos para luego usarlos en la imputación\n",
        "model.fit(X, X, epochs=100, batch_size=16, verbose=0)\n"
      ],
      "metadata": {
        "id": "sFiqNCRo0auL"
      },
      "execution_count": null,
      "outputs": []
    },
    {
      "cell_type": "code",
      "source": [
        "# Usamos el modelo entrenado para predecir la versión reconstruida de los datos\n",
        "# Esta salida será utilizada como imputación final\n",
        "X_pred = model.predict(X)\n",
        "\n",
        "# Convertimos la salida a un DataFrame con los mismos nombres de columnas que el original\n",
        "df_auto_imputed = pd.DataFrame(X_pred, columns=df_auto.columns)\n"
      ],
      "metadata": {
        "id": "_PqMGgWr0cq3"
      },
      "execution_count": null,
      "outputs": []
    },
    {
      "cell_type": "markdown",
      "source": [
        "### 8. Evaluación del impacto predictivo\n",
        "\n",
        "Utilizaremos un modelo de clasificación (XGBClassifier) para predecir Loan_Status con los diferentes datasets imputados."
      ],
      "metadata": {
        "id": "LdSdwVFKbm0m"
      }
    },
    {
      "cell_type": "code",
      "source": [
        "# Importamos herramientas\n",
        "from sklearn.model_selection import train_test_split\n",
        "from sklearn.metrics import accuracy_score, roc_auc_score\n",
        "from xgboost import XGBClassifier\n"
      ],
      "metadata": {
        "id": "KAmNaCV7brsS"
      },
      "execution_count": 36,
      "outputs": []
    },
    {
      "cell_type": "code",
      "source": [
        "# Definimos una función que evalúa un DataFrame ya imputado\n",
        "# Entrena un modelo para predecir \"Loan_Status\" y calcula métricas de desempeño\n",
        "def evaluate_model(df, name=\"\"):\n",
        "    df = df.copy()  # Hacemos copia para no alterar el original\n",
        "\n",
        "    # Eliminamos cualquier fila que aún tenga valores faltantes\n",
        "    df = df.dropna()\n",
        "\n",
        "    # Separamos variables predictoras (X) de la variable objetivo (y)\n",
        "    X = df.drop(\"Loan_Status\", axis=1)\n",
        "    y = df[\"Loan_Status\"]\n",
        "\n",
        "    # Si la variable objetivo es categórica (tipo object), la codificamos numéricamente\n",
        "    if y.dtype == 'O':\n",
        "        y = LabelEncoder().fit_transform(y)\n",
        "\n",
        "    # Convertimos todas las variables categóricas (en X) a variables dummy (One-Hot Encoding)\n",
        "    X = pd.get_dummies(X)\n",
        "\n",
        "    # Dividimos los datos en entrenamiento (80%) y prueba (20%)\n",
        "    X_train, X_test, y_train, y_test = train_test_split(X, y, test_size=0.2, random_state=42)\n",
        "\n",
        "    # Creamos y entrenamos el clasificador XGBoost\n",
        "    # Desactivamos use_label_encoder y usamos logloss como métrica\n",
        "    model = XGBClassifier(use_label_encoder=False, eval_metric='logloss')\n",
        "    model.fit(X_train, y_train)\n",
        "\n",
        "    # Generamos predicciones de clase y de probabilidad\n",
        "    preds = model.predict(X_test)\n",
        "    probas = model.predict_proba(X_test)[:,1]  # Probabilidad de clase positiva\n",
        "\n",
        "    # Mostramos métricas: Accuracy y AUC\n",
        "    print(f\"Evaluación con {name}\")\n",
        "    print(f\"Accuracy: {accuracy_score(y_test, preds):.4f}\")\n",
        "    print(f\"AUC: {roc_auc_score(y_test, probas):.4f}\\n\")\n"
      ],
      "metadata": {
        "id": "TyVgRBSG1BkM"
      },
      "execution_count": 37,
      "outputs": []
    },
    {
      "cell_type": "code",
      "source": [
        "# Evaluamos el desempeño del modelo con diferentes versiones del dataset imputado\n",
        "evaluate_model(df_mean, \"Media/Moda\")               # Imputación simple\n",
        "evaluate_model(df_reg, \"Regresión\")                 # Imputación por regresión lineal\n",
        "evaluate_model(df_knn_imputed, \"KNN\")               # Imputación con K-Nearest Neighbors\n",
        "evaluate_model(df_xgb, \"XGBoost\")                   # Imputación supervisada con XGBoost\n",
        "evaluate_model(df_mice_imputed, \"MICE\")             # Imputación iterativa por MICE\n",
        "df_auto_imputed[\"Loan_Status\"] = df[\"Loan_Status\"]\n",
        "evaluate_model(df_auto_imputed, \"Autoencoder\")      # Imputación usando autoencoders\n"
      ],
      "metadata": {
        "id": "g1CvOCD11EO1"
      },
      "execution_count": null,
      "outputs": []
    },
    {
      "cell_type": "markdown",
      "source": [
        "### Preguntas para reflexión\n",
        "\n",
        "- ¿Qué técnica ofrece mejor balance entre simplicidad y precisión?\n",
        "\n",
        "- ¿Qué riesgos podría implicar usar una técnica muy compleja como Autoencoders o XGBoost para imputar?\n",
        "\n",
        "- ¿Por qué KNN puede ser sensible a la escala de los datos o a outliers?\n",
        "\n",
        "- ¿Cómo se podría incorporar la incertidumbre de la imputación en el modelo final?\n",
        "\n",
        "- ¿Qué tipo de datos (categóricos, numéricos, multivariados) favorecen el uso de MICE sobre otros métodos?"
      ],
      "metadata": {
        "id": "vDWnUyhrb44e"
      }
    },
    {
      "cell_type": "markdown",
      "source": [
        "### Conclusión\n",
        "\n",
        "La imputación no es solo un paso técnico: es una decisión analítica que puede alterar el resultado del modelo. Evaluar diferentes métodos no solo mejora el desempeño, sino también la confianza en los modelos desarrollados. Entender cuándo usar cada técnica y su impacto es clave para un análisis responsable."
      ],
      "metadata": {
        "id": "QVfOuKovb-94"
      }
    },
    {
      "cell_type": "markdown",
      "source": [
        "---\n",
        "\n",
        "# Gracias por completar este laboratorio!\n",
        "\n",
        "---\n"
      ],
      "metadata": {
        "id": "cDjdWiDRcDSI"
      }
    }
  ]
}