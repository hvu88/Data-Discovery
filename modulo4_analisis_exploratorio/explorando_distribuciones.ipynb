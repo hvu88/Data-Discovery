{
  "nbformat": 4,
  "nbformat_minor": 0,
  "metadata": {
    "colab": {
      "provenance": [],
      "authorship_tag": "ABX9TyOS/EbJ0ms4rpDAjtaXtzs8",
      "include_colab_link": true
    },
    "kernelspec": {
      "name": "python3",
      "display_name": "Python 3"
    },
    "language_info": {
      "name": "python"
    }
  },
  "cells": [
    {
      "cell_type": "markdown",
      "metadata": {
        "id": "view-in-github",
        "colab_type": "text"
      },
      "source": [
        "<a href=\"https://colab.research.google.com/github/john-caballero/Data-Discovery/blob/main/modulo4_analisis_exploratorio/explorando_distribuciones.ipynb\" target=\"_parent\"><img src=\"https://colab.research.google.com/assets/colab-badge.svg\" alt=\"Open In Colab\"/></a>"
      ]
    },
    {
      "cell_type": "markdown",
      "source": [
        "<img src=\"https://posgrado.utec.edu.pe/sites/default/files/2023-08/Testimonial-home-2.jpg\" alt=\"HTML5 Icon\" width=\"900\" height=\"250\" >"
      ],
      "metadata": {
        "id": "Os64L4ioXNEK"
      }
    },
    {
      "cell_type": "markdown",
      "source": [
        "# **Explorando la forma de las distribuciones**"
      ],
      "metadata": {
        "id": "ler7_DimXPyz"
      }
    },
    {
      "cell_type": "markdown",
      "source": [
        "---\n",
        "\n",
        "#### **Objetivo del laboratorio**\n",
        "\n",
        "Analizar la forma, tendencia central, dispersión y momentos estadísticos de variables reales mediante análisis gráfico y numérico.\n",
        "\n"
      ],
      "metadata": {
        "id": "9rDMaX38XVcU"
      }
    },
    {
      "cell_type": "markdown",
      "source": [
        "#### **Dataset sugerido**\n",
        "\n",
        "Iris, Titanic o House Prices (de Kaggle o seaborn).\n",
        "\n",
        "Alternativamente, puedes usar un dataset de negocio como comportamiento de crédito, si está disponible internamente."
      ],
      "metadata": {
        "id": "I25jf2SsXdoo"
      }
    },
    {
      "cell_type": "markdown",
      "source": [
        "### **Instrucciones**\n",
        "\n",
        "\n",
        "**1. Selección de variables:**\n",
        "\n",
        "Escoge al menos 3 variables numéricas del dataset.\n",
        "\n",
        "Si usas Titanic, pueden ser: age, fare, sibsp.\n"
      ],
      "metadata": {
        "id": "j3PXENtNXogy"
      }
    },
    {
      "cell_type": "code",
      "source": [
        "df[[\"age\", \"fare\", \"sibsp\"]].head()\n"
      ],
      "metadata": {
        "id": "sTJO2QH0ZtZ_"
      },
      "execution_count": null,
      "outputs": []
    },
    {
      "cell_type": "markdown",
      "source": [
        "**2. Distribución y forma:**\n",
        "\n",
        "- Grafica histogramas, boxplots, y KDE plots.\n",
        "\n",
        "\n",
        "\n",
        "\n"
      ],
      "metadata": {
        "id": "lraaU34EXvZP"
      }
    },
    {
      "cell_type": "code",
      "execution_count": null,
      "metadata": {
        "id": "iBVaGvznW4Jr"
      },
      "outputs": [],
      "source": [
        "import matplotlib.pyplot as plt\n",
        "df[\"age\"].hist(bins=20)\n",
        "plt.title(\"Distribución de Age\")\n",
        "plt.show()\n"
      ]
    },
    {
      "cell_type": "code",
      "source": [
        "sns.boxplot(x=df[\"age\"])\n"
      ],
      "metadata": {
        "id": "EkspTp_5Z5qL"
      },
      "execution_count": null,
      "outputs": []
    },
    {
      "cell_type": "code",
      "source": [
        "df[\"age\"].plot(kind=\"kde\")\n"
      ],
      "metadata": {
        "id": "AvLGSBCRZ7Le"
      },
      "execution_count": null,
      "outputs": []
    },
    {
      "cell_type": "markdown",
      "source": [
        "- Determina si cada variable es:\n",
        "  - Simétrica o asimétrica\n",
        "  - Unimodal, bimodal o multimodal\n",
        "  - Light-tailed o heavy-tailed"
      ],
      "metadata": {
        "id": "2syTZ1mBZzv5"
      }
    },
    {
      "cell_type": "code",
      "source": [],
      "metadata": {
        "id": "nBTxlMALZ0Go"
      },
      "execution_count": null,
      "outputs": []
    },
    {
      "cell_type": "markdown",
      "source": [
        "**3. Medidas estadísticas:**\n",
        "\n",
        "Calcula:\n",
        "\n",
        "media, mediana, moda, varianza, desviación estándar, IQR, skewness y curtosis.\n",
        "\n",
        "Compara numéricamente media vs. mediana para discutir robustez.\n",
        "\n"
      ],
      "metadata": {
        "id": "qI1-634vYLFF"
      }
    },
    {
      "cell_type": "code",
      "source": [
        "print(\"Media:\", df[\"age\"].mean())\n",
        "print(\"Mediana:\", df[\"age\"].median())\n",
        "print(\"Moda:\", df[\"age\"].mode()[0])\n",
        "print(\"Varianza:\", df[\"age\"].var())\n",
        "print(\"Desviación estándar:\", df[\"age\"].std())\n",
        "print(\"Rango intercuartílico (IQR):\", df[\"age\"].quantile(0.75) - df[\"age\"].quantile(0.25))\n"
      ],
      "metadata": {
        "id": "9IWyXcthYPYx"
      },
      "execution_count": null,
      "outputs": []
    },
    {
      "cell_type": "markdown",
      "source": [
        "**4. Momentos estadísticos:**\n",
        "\n",
        "Comenta los cuatro momentos para cada variable.\n",
        "\n",
        "- ¿Alguna tiene valores extremos? ¿Cómo lo sabes?\n",
        "\n",
        "Visualización avanzada (opcional):\n",
        "\n",
        "- Modifica una variable para alterar su media, dispersión o asimetría, y vuelve a graficar.\n",
        "\n",
        "- Crea un subplot comparando la original vs. modificada."
      ],
      "metadata": {
        "id": "ONOJ0oVPYPuR"
      }
    },
    {
      "cell_type": "code",
      "source": [
        "from scipy.stats import skew, kurtosis\n",
        "print(\"Asimetría (skewness):\", skew(df[\"age\"].dropna()))\n",
        "print(\"Curtosis:\", kurtosis(df[\"age\"].dropna(), fisher=False))  # Fisher=False da kurtosis normal = 3\n"
      ],
      "metadata": {
        "id": "7VuVSgkzY_t_"
      },
      "execution_count": null,
      "outputs": []
    },
    {
      "cell_type": "markdown",
      "source": [
        "#### **Preguntas finales**\n",
        "\n",
        "- ¿Cuál de las tres variables muestra mayor dispersión?\n",
        "\n",
        "- ¿Cuál tiene mayor curtosis? ¿Qué significa eso?\n",
        "\n",
        "- ¿Qué variable tiene más riesgo de tener outliers?\n",
        "\n",
        "- ¿Qué variable se aleja más de la simetría?\n",
        "\n"
      ],
      "metadata": {
        "id": "hbonxMZ8aK0I"
      }
    },
    {
      "cell_type": "markdown",
      "source": [
        "---\n",
        "\n",
        "# Gracias por completar este laboratorio!\n",
        "\n",
        "---\n"
      ],
      "metadata": {
        "id": "wO-bjvjTZI1Y"
      }
    }
  ]
}